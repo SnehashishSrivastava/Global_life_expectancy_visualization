{
 "cells": [
  {
   "cell_type": "code",
   "execution_count": null,
   "id": "d07c7b73",
   "metadata": {},
   "outputs": [],
   "source": [
    "import pandas as pd"
   ]
  },
  {
   "cell_type": "code",
   "execution_count": null,
   "id": "4f27fb0d",
   "metadata": {},
   "outputs": [],
   "source": [
    "life_exp=pd.read_csv(\"lifeexp.csv\")"
   ]
  },
  {
   "cell_type": "code",
   "execution_count": null,
   "id": "55e00f62",
   "metadata": {},
   "outputs": [],
   "source": [
    "immune=pd.read_csv(\"share-of-children-immunized-dtp3.csv\")"
   ]
  },
  {
   "cell_type": "code",
   "execution_count": null,
   "id": "9c5d44a8",
   "metadata": {},
   "outputs": [],
   "source": [
    "gov_exp=pd.read_csv(\"public-healthcare-spending-share-gdp.csv\")"
   ]
  },
  {
   "cell_type": "code",
   "execution_count": null,
   "id": "1ea0ee1e",
   "metadata": {},
   "outputs": [],
   "source": [
    "life_exp\n"
   ]
  },
  {
   "cell_type": "code",
   "execution_count": null,
   "id": "66efb2b0",
   "metadata": {},
   "outputs": [],
   "source": [
    "!pip install pycountry"
   ]
  },
  {
   "cell_type": "code",
   "execution_count": null,
   "id": "2bea95fd",
   "metadata": {},
   "outputs": [],
   "source": [
    "import pycountry\n",
    "\n",
    "input_countries = ['American Samoa', 'Canada', 'France']\n",
    "\n",
    "countries = {}\n",
    "for country in pycountry.countries:\n",
    "    countries[country.alpha_3] = country.alpha_2"
   ]
  },
  {
   "cell_type": "code",
   "execution_count": null,
   "id": "8f81a7b5",
   "metadata": {},
   "outputs": [],
   "source": [
    "country"
   ]
  },
  {
   "cell_type": "code",
   "execution_count": null,
   "id": "abf4c360",
   "metadata": {},
   "outputs": [],
   "source": [
    "def cont(c):\n",
    "    try:\n",
    "          return countries[c]\n",
    "    except Exception as e:\n",
    "        print(e)\n",
    "        return \"no_link\"\n",
    "    \n",
    "life_exp['svglink']=life_exp['Code'].map(lambda x: cont(x).lower())"
   ]
  },
  {
   "cell_type": "code",
   "execution_count": null,
   "id": "9fc16cb6",
   "metadata": {},
   "outputs": [],
   "source": [
    "life_exp"
   ]
  },
  {
   "cell_type": "code",
   "execution_count": null,
   "id": "af824a34",
   "metadata": {},
   "outputs": [],
   "source": [
    "life_exp.columns=['Entity', 'Code', 'Year',\n",
    "       'Life_expectancy']"
   ]
  },
  {
   "cell_type": "code",
   "execution_count": null,
   "id": "51d6b963",
   "metadata": {
    "scrolled": true
   },
   "outputs": [],
   "source": [
    "life_exp.to_csv(\"lifeexp.csv\")"
   ]
  },
  {
   "cell_type": "code",
   "execution_count": null,
   "id": "2d92b216",
   "metadata": {},
   "outputs": [],
   "source": []
  },
  {
   "cell_type": "code",
   "execution_count": null,
   "id": "d65b8dc0",
   "metadata": {},
   "outputs": [],
   "source": [
    "total=gov_exp.merge(immune,on=['Year',\"Entity\",'Code']).merge(life_exp,on=['Year',\"Entity\",'Code'])"
   ]
  },
  {
   "cell_type": "code",
   "execution_count": null,
   "id": "e10283a3",
   "metadata": {},
   "outputs": [],
   "source": [
    "total.columns=['Entity', 'Code', 'Year',\n",
    "       '%gdpa',\n",
    "       '%vaccinated','Life_expectancy']"
   ]
  },
  {
   "cell_type": "code",
   "execution_count": null,
   "id": "2ce91d91",
   "metadata": {},
   "outputs": [],
   "source": [
    "len(countries)"
   ]
  },
  {
   "cell_type": "code",
   "execution_count": null,
   "id": "ac733cd2",
   "metadata": {},
   "outputs": [],
   "source": [
    "countries['syrial']"
   ]
  },
  {
   "cell_type": "code",
   "execution_count": null,
   "id": "0abf7591",
   "metadata": {},
   "outputs": [],
   "source": [
    "total.columns="
   ]
  },
  {
   "cell_type": "code",
   "execution_count": null,
   "id": "e26629cf",
   "metadata": {},
   "outputs": [],
   "source": [
    "total2=total.drop(columns=['Entity',\"Code\"])"
   ]
  },
  {
   "cell_type": "code",
   "execution_count": null,
   "id": "1d211ba6",
   "metadata": {},
   "outputs": [],
   "source": [
    "total2.corr()"
   ]
  },
  {
   "cell_type": "code",
   "execution_count": null,
   "id": "2c063ff4",
   "metadata": {},
   "outputs": [],
   "source": [
    "avg=total2.groupby(\"Year\").mean()"
   ]
  },
  {
   "cell_type": "code",
   "execution_count": null,
   "id": "5ef0aec4",
   "metadata": {},
   "outputs": [],
   "source": [
    "avg=avg.reset_index(drop=False)"
   ]
  },
  {
   "cell_type": "code",
   "execution_count": null,
   "id": "e007d2c6",
   "metadata": {},
   "outputs": [],
   "source": [
    "total.describe()"
   ]
  },
  {
   "cell_type": "code",
   "execution_count": null,
   "id": "3670b66b",
   "metadata": {},
   "outputs": [],
   "source": [
    "low_LE=total[total['Domestic general government health expenditure (% of GDP)']<3.28]"
   ]
  },
  {
   "cell_type": "code",
   "execution_count": null,
   "id": "5b207715",
   "metadata": {},
   "outputs": [],
   "source": [
    "countries=set(low_LE['Entity'].values)"
   ]
  },
  {
   "cell_type": "code",
   "execution_count": null,
   "id": "4e6be6e9",
   "metadata": {},
   "outputs": [],
   "source": [
    "len(countries)"
   ]
  },
  {
   "cell_type": "code",
   "execution_count": null,
   "id": "17cafa62",
   "metadata": {},
   "outputs": [],
   "source": [
    "relmain2=relmain.drop(columns=['Entity','Code'])"
   ]
  },
  {
   "cell_type": "code",
   "execution_count": null,
   "id": "cce6b6e7",
   "metadata": {},
   "outputs": [],
   "source": [
    "relmain2=relmain2.groupby(\"Year\").mean()"
   ]
  },
  {
   "cell_type": "code",
   "execution_count": null,
   "id": "1f39321a",
   "metadata": {},
   "outputs": [],
   "source": [
    "df=low_LE[low_LE['Life expectancy - Sex: all - Age: 0 - Variant: estimates']<70]"
   ]
  },
  {
   "cell_type": "code",
   "execution_count": null,
   "id": "f608abf7",
   "metadata": {},
   "outputs": [],
   "source": [
    "len(set(df['Entity'].values))"
   ]
  },
  {
   "cell_type": "code",
   "execution_count": null,
   "id": "fb3abe81",
   "metadata": {},
   "outputs": [],
   "source": [
    "eountries=set(total.Entity)"
   ]
  },
  {
   "cell_type": "code",
   "execution_count": null,
   "id": "66995bc7",
   "metadata": {},
   "outputs": [],
   "source": [
    "fig = go.Figure()\n",
    "dct_big=[]\n",
    "relmain=pd.DataFrame(columns=['Entity', 'Code', 'Year',\n",
    "       'Domestic general government health expenditure (% of GDP)',\n",
    "       'DTP3 (% of one-year-olds immunized)',\n",
    "       'Life expectancy - Sex: all - Age: 0 - Variant: estimates'])\n",
    "for country in countries :\n",
    "    rel=total[total['Entity']==country]\n",
    "    relmain=pd.concat([relmain,rel])\n",
    "    fig.add_trace(go.Scatter(x=rel['Year'], y=rel['DTP3 (% of one-year-olds immunized)'],name='life_exp'+country))\n",
    "#     fig.add_trace(go.Scatter(x=rel['Year'], y=rel['DTP3 (% of one-year-olds immunized)'],name='DP#'+country))\n",
    "\n",
    "#     dct={}\n",
    "#     dct['country']=country\n",
    "#     dct['endYear']=max(rel['Year'])\n",
    "#     dct['start_Year']=min(rel['Year'])\n",
    "#     dct['total_years']=len(rel)\n",
    "# #     dct_big.append(dct)\n",
    "    \n",
    "#     print((rel['Year']),country,)\n",
    "fig.show()"
   ]
  },
  {
   "cell_type": "code",
   "execution_count": null,
   "id": "198e3060",
   "metadata": {},
   "outputs": [],
   "source": [
    "poverty=pd.DataFrame(dct_big)"
   ]
  },
  {
   "cell_type": "code",
   "execution_count": null,
   "id": "e8181109",
   "metadata": {},
   "outputs": [],
   "source": [
    "rel"
   ]
  },
  {
   "cell_type": "code",
   "execution_count": null,
   "id": "6b7807b3",
   "metadata": {},
   "outputs": [],
   "source": [
    "low_LE[low_LE['Year']==2020]"
   ]
  },
  {
   "cell_type": "code",
   "execution_count": null,
   "id": "664d5032",
   "metadata": {},
   "outputs": [],
   "source": [
    "cont=poverty[poverty['total_years']<10]"
   ]
  },
  {
   "cell_type": "code",
   "execution_count": null,
   "id": "b519f050",
   "metadata": {},
   "outputs": [],
   "source": [
    "improved=cont['country'].values"
   ]
  },
  {
   "cell_type": "code",
   "execution_count": null,
   "id": "d7f88b45",
   "metadata": {},
   "outputs": [],
   "source": [
    "import plotly.express as px\n",
    "# data_canada = px.data.gapminder().query(\"country == 'Canada'\")\n",
    "fig = px.bar(cont, x='country', y='start_Year')\n",
    "fig.show()"
   ]
  },
  {
   "cell_type": "code",
   "execution_count": null,
   "id": "0f625a6e",
   "metadata": {},
   "outputs": [],
   "source": [
    "life_exp\n"
   ]
  },
  {
   "cell_type": "code",
   "execution_count": null,
   "id": "2afb9b09",
   "metadata": {},
   "outputs": [],
   "source": [
    "from plotly import graph_objects as go\n",
    "fig = go.Figure() \n",
    "fig.update_layout(width=1000, height=750, margin=dict(l=40, r=10, t=200, b=200), showlegend=True, \n",
    "                   legend=dict(itemwidth=30, itemsizing='constant'),\n",
    "                   paper_bgcolor=\"#ffffff\",)\n",
    "fig.add_trace(go.Scatter(x=life_exp['Year'], y=life_exp['Life_expectancy'], line=dict(color=\"red\"),name='life_exp'))"
   ]
  },
  {
   "cell_type": "code",
   "execution_count": null,
   "id": "95e40dcf",
   "metadata": {},
   "outputs": [],
   "source": [
    "import plotly.express as px\n",
    "fig = px.scatter(x=total['DTP3 (% of one-year-olds immunized)'], y=total['Life expectancy - Sex: all - Age: 0 - Variant: estimates'])\n",
    "fig.show()"
   ]
  },
  {
   "cell_type": "code",
   "execution_count": null,
   "id": "a924839d",
   "metadata": {},
   "outputs": [],
   "source": [
    "total[total['Entity']==\"Dominica\"]"
   ]
  },
  {
   "cell_type": "code",
   "execution_count": null,
   "id": "66a8eb01",
   "metadata": {},
   "outputs": [],
   "source": [
    "df=pd.read_csv(\"population-and-demography (1).csv\")"
   ]
  },
  {
   "cell_type": "code",
   "execution_count": null,
   "id": "ca386e79",
   "metadata": {},
   "outputs": [],
   "source": [
    "df"
   ]
  },
  {
   "cell_type": "code",
   "execution_count": null,
   "id": "5ae245cf",
   "metadata": {},
   "outputs": [],
   "source": [
    "population=pd.read_csv(\"total population.csv\")"
   ]
  },
  {
   "cell_type": "code",
   "execution_count": null,
   "id": "87564474",
   "metadata": {},
   "outputs": [],
   "source": [
    "population"
   ]
  },
  {
   "cell_type": "code",
   "execution_count": null,
   "id": "f0d77962",
   "metadata": {},
   "outputs": [],
   "source": [
    "\n",
    "\n",
    "total_population=df.merge(population,on=['Year',\"Entity\",'Code'])"
   ]
  },
  {
   "cell_type": "code",
   "execution_count": null,
   "id": "76af1e33",
   "metadata": {},
   "outputs": [],
   "source": [
    "world=total_population[total_population['Entity']==\"World\"]"
   ]
  },
  {
   "cell_type": "code",
   "execution_count": null,
   "id": "2932c9c9",
   "metadata": {},
   "outputs": [],
   "source": [
    "world"
   ]
  },
  {
   "cell_type": "code",
   "execution_count": null,
   "id": "bbb996ea",
   "metadata": {},
   "outputs": [],
   "source": [
    "low_income=total_population[total_population['Entity']==\"Low-income countries\"]"
   ]
  },
  {
   "cell_type": "code",
   "execution_count": null,
   "id": "054c19aa",
   "metadata": {},
   "outputs": [],
   "source": [
    "lower_middle=total_population[total_population['Entity']==\"Lower-middle-income countries\"]"
   ]
  },
  {
   "cell_type": "code",
   "execution_count": null,
   "id": "2e513141",
   "metadata": {},
   "outputs": [],
   "source": [
    "Upper_middle=total_population[total_population['Entity']==\"Upper-middle-income countries\"]"
   ]
  },
  {
   "cell_type": "code",
   "execution_count": null,
   "id": "cde75913",
   "metadata": {},
   "outputs": [],
   "source": [
    "high_income=total_population[total_population['Entity']==\"High-income countries\"]"
   ]
  },
  {
   "cell_type": "code",
   "execution_count": null,
   "id": "ef943981",
   "metadata": {},
   "outputs": [],
   "source": [
    "total2=total_population.drop(columns=[\"Entity\",'Code'])"
   ]
  },
  {
   "cell_type": "code",
   "execution_count": null,
   "id": "591853c5",
   "metadata": {},
   "outputs": [],
   "source": [
    "avg=total2.groupby(\"Year\").mean()"
   ]
  },
  {
   "cell_type": "code",
   "execution_count": null,
   "id": "f30511ea",
   "metadata": {},
   "outputs": [],
   "source": [
    "a=total_population.Entity"
   ]
  },
  {
   "cell_type": "code",
   "execution_count": null,
   "id": "ec0382e1",
   "metadata": {},
   "outputs": [],
   "source": [
    "if \"world\" in a:\n",
    "    print(\"yes\")\n",
    "else : print('no')"
   ]
  },
  {
   "cell_type": "code",
   "execution_count": null,
   "id": "d2ba5ad2",
   "metadata": {},
   "outputs": [],
   "source": [
    "set(a)"
   ]
  },
  {
   "cell_type": "code",
   "execution_count": null,
   "id": "a9294429",
   "metadata": {},
   "outputs": [],
   "source": [
    "world.describe()"
   ]
  },
  {
   "cell_type": "code",
   "execution_count": null,
   "id": "e4fca338",
   "metadata": {},
   "outputs": [],
   "source": [
    "from plotly import graph_objects as go\n",
    "fig = go.Figure() \n",
    "fig.update_layout(width=1000, height=750, margin=dict(l=40, r=10, t=200, b=200), showlegend=True, \n",
    "                   legend=dict(itemwidth=30, itemsizing='constant'),\n",
    "                   paper_bgcolor=\"#ffffff\",)\n",
    "fig.add_trace(go.Scatter(x=low_income.Year, y=low_income['Natural population growth rate - Sex: all - Age: all - Variant: estimates'], line=dict(color=\"red\"),name='Low_income'))\n",
    "fig.add_trace(go.Scatter(x=lower_middle.Year, y=lower_middle['Natural population growth rate - Sex: all - Age: all - Variant: estimates'], line=dict(color=\"blue\"),name='lower middle'))\n",
    "fig.add_trace(go.Scatter(x=world.Year, y=world['Natural population growth rate - Sex: all - Age: all - Variant: estimates'], line=dict(color=\"green\"),name='world'))\n",
    "fig.add_trace(go.Scatter(x=high_income.Year, y=high_income['Natural population growth rate - Sex: all - Age: all - Variant: estimates'],name='high_income'))\n",
    "fig.add_trace(go.Scatter(x=Upper_middle.Year, y=Upper_middle['Natural population growth rate - Sex: all - Age: all - Variant: estimates'],name='Upper_middle'))"
   ]
  },
  {
   "cell_type": "code",
   "execution_count": null,
   "id": "1355fc7a",
   "metadata": {},
   "outputs": [],
   "source": [
    "from plotly import graph_objects as go\n",
    "fig = go.Figure() \n",
    "fig.update_layout(width=1000, height=750, margin=dict(l=40, r=10, t=200, b=200), showlegend=True, \n",
    "                   legend=dict(itemwidth=30, itemsizing='constant'),\n",
    "                   paper_bgcolor=\"#ffffff\",)\n",
    "fig.add_trace(go.Scatter(x=low_income.Year, y=low_income['Population - Sex: all - Age: all - Variant: estimates'], line=dict(color=\"red\"),name='Low_income'))\n",
    "fig.add_trace(go.Scatter(x=lower_middle.Year, y=lower_middle['Population - Sex: all - Age: all - Variant: estimates'], line=dict(color=\"blue\"),name='lower middle'))\n",
    "fig.add_trace(go.Scatter(x=world.Year, y=world['Population - Sex: all - Age: all - Variant: estimates'], line=dict(color=\"green\"),name='world'))\n",
    "fig.add_trace(go.Scatter(x=high_income.Year, y=high_income['Population - Sex: all - Age: all - Variant: estimates'],name='high_income'))"
   ]
  },
  {
   "cell_type": "code",
   "execution_count": null,
   "id": "d0f5be27",
   "metadata": {},
   "outputs": [],
   "source": []
  }
 ],
 "metadata": {
  "kernelspec": {
   "display_name": "venv",
   "language": "python",
   "name": "venv"
  },
  "language_info": {
   "codemirror_mode": {
    "name": "ipython",
    "version": 3
   },
   "file_extension": ".py",
   "mimetype": "text/x-python",
   "name": "python",
   "nbconvert_exporter": "python",
   "pygments_lexer": "ipython3",
   "version": "3.9.13"
  }
 },
 "nbformat": 4,
 "nbformat_minor": 5
}
